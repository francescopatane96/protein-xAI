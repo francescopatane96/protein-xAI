{
  "nbformat": 4,
  "nbformat_minor": 0,
  "metadata": {
    "colab": {
      "provenance": [],
      "authorship_tag": "ABX9TyPA+lPioB6BG8GVaWcht7PJ",
      "include_colab_link": true
    },
    "kernelspec": {
      "name": "python3",
      "display_name": "Python 3"
    },
    "language_info": {
      "name": "python"
    }
  },
  "cells": [
    {
      "cell_type": "markdown",
      "metadata": {
        "id": "view-in-github",
        "colab_type": "text"
      },
      "source": [
        "<a href=\"https://colab.research.google.com/github/francescopatane96/protein-xAI/blob/main/see_me.ipynb\" target=\"_parent\"><img src=\"https://colab.research.google.com/assets/colab-badge.svg\" alt=\"Open In Colab\"/></a>"
      ]
    },
    {
      "cell_type": "code",
      "source": [
        "pip install captum"
      ],
      "metadata": {
        "id": "Th7UyTW4mHpO"
      },
      "execution_count": null,
      "outputs": []
    },
    {
      "cell_type": "code",
      "execution_count": 98,
      "metadata": {
        "id": "7CTzDdCOjClF"
      },
      "outputs": [],
      "source": [
        "import numpy as np\n",
        "import torch\n",
        "import torch.nn as nn\n",
        "import torch.nn.functional as F\n",
        "import torch.utils.data as Data\n",
        "import torch.nn.utils.rnn as rnn_utils\n",
        "\n",
        "\n",
        "class xAInet(nn.Module):\n",
        "  def __init__(self):\n",
        "    super().__init__()\n",
        "    \n",
        "    self.hidden_dim = 25\n",
        "    self.batch_size = 32\n",
        "    self.embedding_dim = 512\n",
        "\n",
        "    self.embedding_layer = nn.Embedding(24, self.embedding_dim, padding_idx=0)\n",
        "    self.encoder_layer = nn.TransformerEncoderLayer(d_model=512, nhead=8)\n",
        "\n",
        "    self.transformer_encoder = nn.TransformerEncoder(self.encoder_layer, num_layers=1)\n",
        "    self.gru = nn.GRU(self.embedding_dim, self.hidden_dim, num_layers=2,\n",
        "                      bidirectional=True, dropout=.2)\n",
        "    \n",
        "    self.block_seq = nn.Sequential(nn.Linear(15050, 2048),\n",
        "                                   nn.BatchNorm1d(2048),\n",
        "                                   nn.LeakyReLU(),\n",
        "                                   nn.Linear(2048, 1024),\n",
        "                                   nn.BatchNorm1d(1024),\n",
        "                                   nn.LeakyReLU(),\n",
        "                                   nn.Linear(1024, 256),\n",
        "                                   nn.BatchNorm1d(256),\n",
        "                                   nn.ReLU(),\n",
        "                                   nn.Linear(256, 8),\n",
        "                                   nn.Linear(8, 2),\n",
        "                                   nn.Softmax(dim=1))\n",
        "    \n",
        "    \n",
        "  def forward(self, seq):\n",
        "        seq = seq.long()\n",
        "        embeddings = self.embedding_layer(seq)\n",
        "        output = self.transformer_encoder(embeddings).permute(1, 0, 2)\n",
        "        output, hn = self.gru(output)\n",
        "        output = output.permute(1, 0, 2)\n",
        "        hn = hn.permute(1, 0, 2)\n",
        "       \n",
        "        output = output.reshape(output.shape[0], -1)\n",
        "        hn = hn.reshape(output.shape[0], -1)\n",
        "        \n",
        "        output = torch.cat([output, hn], 1)\n",
        "        output = self.block_seq(output)\n",
        "       \n",
        "       \n",
        "        return output\n"
      ]
    },
    {
      "cell_type": "code",
      "source": [
        "def model_output(inputs):\n",
        "\n",
        "    #inputs = inputs[0].unsqueeze(0)\n",
        "  \n",
        "    out = model(inputs)\n",
        "    # Apply softmax to convert prediction scores to probabilities\n",
        "    probabilities = torch.softmax(out, dim=1)\n",
        "    \n",
        "\n",
        "    # Get the predicted classes by selecting the class with the highest probability\n",
        "    predicted_classes = torch.argmax(probabilities, dim=1)  \n",
        "    return predicted_classes\n"
      ],
      "metadata": {
        "id": "HLezKEJQj0th"
      },
      "execution_count": 31,
      "outputs": []
    },
    {
      "cell_type": "code",
      "source": [
        "def construct_input_and_baseline(text):\n",
        "\n",
        "    max_length = 512\n",
        "    #baseline_token_id = rnn_utils.pad_sequence()\n",
        "    \n",
        "\n",
        "    input_ids = []\n",
        "    token_list = []\n",
        "    \n",
        "    aa_dict = {'A': 1, 'R': 2, 'N': 3, 'D': 4, 'C': 5, 'Q': 6, 'E': 7, 'G': 8, 'H': 9, 'I': 10,\n",
        "               'L': 11, 'K': 12, 'M': 13, 'F': 14, 'P': 15, 'O': 16, 'S': 17, 'U': 18, 'T': 19,\n",
        "               'W': 20, 'Y': 21, 'V': 22, 'X': 23, 'PAD': 0}\n",
        "    \n",
        "    for char in text:\n",
        "      if char in aa_dict:\n",
        "        input_ids.append(aa_dict[char])\n",
        "        token_list.append(char)\n",
        "\n",
        "    baseline_token_id = 23\n",
        "    baseline_input_ids = [baseline_token_id] * len(input_ids)\n",
        "\n",
        "    input_ids_tensor = torch.tensor([input_ids], device='cpu')\n",
        "    baseline_input_ids_tensor = torch.tensor([baseline_input_ids], device='cpu')\n",
        "\n",
        "    return input_ids_tensor, baseline_input_ids_tensor, token_list"
      ],
      "metadata": {
        "id": "KHaTjHNWj4UA"
      },
      "execution_count": 251,
      "outputs": []
    },
    {
      "cell_type": "code",
      "source": [
        "text = 'MSKSKMLVFKSKKKKKKKKKKKKKKK'\n",
        "\n",
        "input_ids, baseline_input_ids, all_tokens = construct_input_and_baseline(text)\n",
        "\n",
        "print(f'original text: {input_ids}')\n",
        "print(f'baseline text: {baseline_input_ids}')\n",
        "print(f'all tokens: {all_tokens}')\n"
      ],
      "metadata": {
        "colab": {
          "base_uri": "https://localhost:8080/"
        },
        "id": "wgi3rf3Pj6n-",
        "outputId": "b2432678-8d60-4170-9b3a-a690fc7712a1"
      },
      "execution_count": 252,
      "outputs": [
        {
          "output_type": "stream",
          "name": "stdout",
          "text": [
            "original text: tensor([[13, 17, 12, 17, 12, 13, 11, 22, 14, 12, 17, 12, 12, 12, 12, 12, 12, 12,\n",
            "         12, 12, 12, 12, 12, 12, 12, 12]])\n",
            "baseline text: tensor([[23, 23, 23, 23, 23, 23, 23, 23, 23, 23, 23, 23, 23, 23, 23, 23, 23, 23,\n",
            "         23, 23, 23, 23, 23, 23, 23, 23]])\n",
            "all tokens: ['M', 'S', 'K', 'S', 'K', 'M', 'L', 'V', 'F', 'K', 'S', 'K', 'K', 'K', 'K', 'K', 'K', 'K', 'K', 'K', 'K', 'K', 'K', 'K', 'K', 'K']\n"
          ]
        }
      ]
    },
    {
      "cell_type": "code",
      "source": [
        "desired_length = 299\n",
        "padded_sequences = [seq[:desired_length] if len(seq) >= desired_length else torch.cat((seq, torch.zeros(desired_length - len(seq)))) for seq in input_ids]\n",
        "# Apply pad_sequence on the padded_sequences\n",
        "    #data = pad_sequence(padded_sequences, batch_first=True)\n",
        "    \n",
        "input_ids = rnn_utils.pad_sequence(padded_sequences, batch_first=True)\n",
        "\n",
        "padded_sequences = [seq[:desired_length] if len(seq) >= desired_length else torch.cat((seq, torch.zeros(desired_length - len(seq)))) for seq in baseline_input_ids]\n",
        "# Apply pad_sequence on the padded_sequences\n",
        "    #data = pad_sequence(padded_sequences, batch_first=True)\n",
        "    \n",
        "baseline_input_ids = rnn_utils.pad_sequence(padded_sequences, batch_first=True)"
      ],
      "metadata": {
        "id": "wRmd-mDwj8f3"
      },
      "execution_count": 253,
      "outputs": []
    },
    {
      "cell_type": "code",
      "source": [
        "print(f'original text: {input_ids}')\n",
        "print(f'baseline text: {baseline_input_ids}')\n",
        "print(f'all tokens: {all_tokens}')"
      ],
      "metadata": {
        "colab": {
          "base_uri": "https://localhost:8080/"
        },
        "id": "qZoGpnwWkBht",
        "outputId": "19451813-1ecd-48f7-a312-ed1b209bb4f9"
      },
      "execution_count": 254,
      "outputs": [
        {
          "output_type": "stream",
          "name": "stdout",
          "text": [
            "original text: tensor([[13., 17., 12., 17., 12., 13., 11., 22., 14., 12., 17., 12., 12., 12.,\n",
            "         12., 12., 12., 12., 12., 12., 12., 12., 12., 12., 12., 12.,  0.,  0.,\n",
            "          0.,  0.,  0.,  0.,  0.,  0.,  0.,  0.,  0.,  0.,  0.,  0.,  0.,  0.,\n",
            "          0.,  0.,  0.,  0.,  0.,  0.,  0.,  0.,  0.,  0.,  0.,  0.,  0.,  0.,\n",
            "          0.,  0.,  0.,  0.,  0.,  0.,  0.,  0.,  0.,  0.,  0.,  0.,  0.,  0.,\n",
            "          0.,  0.,  0.,  0.,  0.,  0.,  0.,  0.,  0.,  0.,  0.,  0.,  0.,  0.,\n",
            "          0.,  0.,  0.,  0.,  0.,  0.,  0.,  0.,  0.,  0.,  0.,  0.,  0.,  0.,\n",
            "          0.,  0.,  0.,  0.,  0.,  0.,  0.,  0.,  0.,  0.,  0.,  0.,  0.,  0.,\n",
            "          0.,  0.,  0.,  0.,  0.,  0.,  0.,  0.,  0.,  0.,  0.,  0.,  0.,  0.,\n",
            "          0.,  0.,  0.,  0.,  0.,  0.,  0.,  0.,  0.,  0.,  0.,  0.,  0.,  0.,\n",
            "          0.,  0.,  0.,  0.,  0.,  0.,  0.,  0.,  0.,  0.,  0.,  0.,  0.,  0.,\n",
            "          0.,  0.,  0.,  0.,  0.,  0.,  0.,  0.,  0.,  0.,  0.,  0.,  0.,  0.,\n",
            "          0.,  0.,  0.,  0.,  0.,  0.,  0.,  0.,  0.,  0.,  0.,  0.,  0.,  0.,\n",
            "          0.,  0.,  0.,  0.,  0.,  0.,  0.,  0.,  0.,  0.,  0.,  0.,  0.,  0.,\n",
            "          0.,  0.,  0.,  0.,  0.,  0.,  0.,  0.,  0.,  0.,  0.,  0.,  0.,  0.,\n",
            "          0.,  0.,  0.,  0.,  0.,  0.,  0.,  0.,  0.,  0.,  0.,  0.,  0.,  0.,\n",
            "          0.,  0.,  0.,  0.,  0.,  0.,  0.,  0.,  0.,  0.,  0.,  0.,  0.,  0.,\n",
            "          0.,  0.,  0.,  0.,  0.,  0.,  0.,  0.,  0.,  0.,  0.,  0.,  0.,  0.,\n",
            "          0.,  0.,  0.,  0.,  0.,  0.,  0.,  0.,  0.,  0.,  0.,  0.,  0.,  0.,\n",
            "          0.,  0.,  0.,  0.,  0.,  0.,  0.,  0.,  0.,  0.,  0.,  0.,  0.,  0.,\n",
            "          0.,  0.,  0.,  0.,  0.,  0.,  0.,  0.,  0.,  0.,  0.,  0.,  0.,  0.,\n",
            "          0.,  0.,  0.,  0.,  0.]])\n",
            "baseline text: tensor([[23., 23., 23., 23., 23., 23., 23., 23., 23., 23., 23., 23., 23., 23.,\n",
            "         23., 23., 23., 23., 23., 23., 23., 23., 23., 23., 23., 23.,  0.,  0.,\n",
            "          0.,  0.,  0.,  0.,  0.,  0.,  0.,  0.,  0.,  0.,  0.,  0.,  0.,  0.,\n",
            "          0.,  0.,  0.,  0.,  0.,  0.,  0.,  0.,  0.,  0.,  0.,  0.,  0.,  0.,\n",
            "          0.,  0.,  0.,  0.,  0.,  0.,  0.,  0.,  0.,  0.,  0.,  0.,  0.,  0.,\n",
            "          0.,  0.,  0.,  0.,  0.,  0.,  0.,  0.,  0.,  0.,  0.,  0.,  0.,  0.,\n",
            "          0.,  0.,  0.,  0.,  0.,  0.,  0.,  0.,  0.,  0.,  0.,  0.,  0.,  0.,\n",
            "          0.,  0.,  0.,  0.,  0.,  0.,  0.,  0.,  0.,  0.,  0.,  0.,  0.,  0.,\n",
            "          0.,  0.,  0.,  0.,  0.,  0.,  0.,  0.,  0.,  0.,  0.,  0.,  0.,  0.,\n",
            "          0.,  0.,  0.,  0.,  0.,  0.,  0.,  0.,  0.,  0.,  0.,  0.,  0.,  0.,\n",
            "          0.,  0.,  0.,  0.,  0.,  0.,  0.,  0.,  0.,  0.,  0.,  0.,  0.,  0.,\n",
            "          0.,  0.,  0.,  0.,  0.,  0.,  0.,  0.,  0.,  0.,  0.,  0.,  0.,  0.,\n",
            "          0.,  0.,  0.,  0.,  0.,  0.,  0.,  0.,  0.,  0.,  0.,  0.,  0.,  0.,\n",
            "          0.,  0.,  0.,  0.,  0.,  0.,  0.,  0.,  0.,  0.,  0.,  0.,  0.,  0.,\n",
            "          0.,  0.,  0.,  0.,  0.,  0.,  0.,  0.,  0.,  0.,  0.,  0.,  0.,  0.,\n",
            "          0.,  0.,  0.,  0.,  0.,  0.,  0.,  0.,  0.,  0.,  0.,  0.,  0.,  0.,\n",
            "          0.,  0.,  0.,  0.,  0.,  0.,  0.,  0.,  0.,  0.,  0.,  0.,  0.,  0.,\n",
            "          0.,  0.,  0.,  0.,  0.,  0.,  0.,  0.,  0.,  0.,  0.,  0.,  0.,  0.,\n",
            "          0.,  0.,  0.,  0.,  0.,  0.,  0.,  0.,  0.,  0.,  0.,  0.,  0.,  0.,\n",
            "          0.,  0.,  0.,  0.,  0.,  0.,  0.,  0.,  0.,  0.,  0.,  0.,  0.,  0.,\n",
            "          0.,  0.,  0.,  0.,  0.,  0.,  0.,  0.,  0.,  0.,  0.,  0.,  0.,  0.,\n",
            "          0.,  0.,  0.,  0.,  0.]])\n",
            "all tokens: ['M', 'S', 'K', 'S', 'K', 'M', 'L', 'V', 'F', 'K', 'S', 'K', 'K', 'K', 'K', 'K', 'K', 'K', 'K', 'K', 'K', 'K', 'K', 'K', 'K', 'K']\n"
          ]
        }
      ]
    },
    {
      "cell_type": "code",
      "source": [
        "model = xAInet()\n",
        "model.eval()"
      ],
      "metadata": {
        "id": "xOe_s4xTkeu8"
      },
      "execution_count": null,
      "outputs": []
    },
    {
      "cell_type": "code",
      "source": [
        "from captum.attr import LayerIntegratedGradients\n",
        "\n",
        "ig = LayerIntegratedGradients(model, model.embedding_layer)\n",
        "\n",
        "\n",
        "attribution, delta = ig.attribute(inputs=input_ids, baselines=baseline_input_ids, target=model_output(input_ids), return_convergence_delta=True, internal_batch_size=1)  "
      ],
      "metadata": {
        "id": "dYQqJmAxkDPp"
      },
      "execution_count": 257,
      "outputs": []
    },
    {
      "cell_type": "code",
      "source": [
        "def summarize_attributions(attributions):\n",
        "\n",
        "    attributions = attributions.sum(dim=-1).squeeze(0)\n",
        "    attributions = attributions / torch.norm(attributions)\n",
        "    \n",
        "    return attributions\n",
        "\n",
        "attributions_sum = summarize_attributions(attribution)\n",
        "\n",
        "print(attributions_sum.size())\n",
        "print(attribution.size())"
      ],
      "metadata": {
        "colab": {
          "base_uri": "https://localhost:8080/"
        },
        "id": "ci9q57wFPOPl",
        "outputId": "2bfa9e80-85a2-4578-c4ab-39c48e01730b"
      },
      "execution_count": 258,
      "outputs": [
        {
          "output_type": "stream",
          "name": "stdout",
          "text": [
            "torch.Size([299])\n",
            "torch.Size([1, 299, 512])\n"
          ]
        }
      ]
    },
    {
      "cell_type": "code",
      "source": [
        "from captum.attr import visualization as viz          #NON funziona\n",
        "\n",
        "score_vis = viz.VisualizationDataRecord(\n",
        "                        word_attributions = attributions_sum,\n",
        "                        pred_prob = torch.max(model(input_ids)[0]),\n",
        "                        pred_class = torch.argmax(model(input_ids)[0]).numpy(),\n",
        "                        true_class = 0,\n",
        "                        attr_class = 'seq',\n",
        "                        attr_score = attributions_sum.sum(),       \n",
        "                        raw_input_ids = input_ids,\n",
        "                        convergence_score = delta)\n",
        "\n",
        "viz.visualize_text([score_vis])"
      ],
      "metadata": {
        "id": "OA4uKay1QjcI"
      },
      "execution_count": null,
      "outputs": []
    },
    {
      "cell_type": "code",
      "source": [
        "attr = attributions_sum.tolist()"
      ],
      "metadata": {
        "id": "wrjCMVn8eUt9"
      },
      "execution_count": 259,
      "outputs": []
    },
    {
      "cell_type": "code",
      "source": [
        "aa_dict = {'A': 1, 'R': 2, 'N': 3, 'D': 4, 'C': 5, 'Q': 6, 'E': 7, 'G': 8, 'H': 9, 'I': 10,\n",
        "               'L': 11, 'K': 12, 'M': 13, 'F': 14, 'P': 15, 'O': 16, 'S': 17, 'U': 18, 'T': 19,\n",
        "               'W': 20, 'Y': 21, 'V': 22, 'X': 23, 'PAD': 0}"
      ],
      "metadata": {
        "id": "iJTA_QUwgfMQ"
      },
      "execution_count": 270,
      "outputs": []
    },
    {
      "cell_type": "code",
      "source": [
        "def generate_text_from_tokens(input_ids, aa_dict):\n",
        "    text = []\n",
        "    for token in input_ids:\n",
        "        if token.item() in aa_dict.values():\n",
        "            aminoacido = list(aa_dict.keys())[list(aa_dict.values()).index(token.item())]\n",
        "            text.append(aminoacido)\n",
        "    return text\n",
        "\n"
      ],
      "metadata": {
        "id": "hC8_WZF9etY4"
      },
      "execution_count": 284,
      "outputs": []
    },
    {
      "cell_type": "code",
      "source": [
        "generated_text = generate_text_from_tokens(input_ids[0], aa_dict)\n",
        "print(generated_text)\n",
        "\n",
        "\n"
      ],
      "metadata": {
        "colab": {
          "base_uri": "https://localhost:8080/"
        },
        "id": "WgGoIGfIfNol",
        "outputId": "1d5b828f-5c0b-429e-9a53-25af0261b2dc"
      },
      "execution_count": 285,
      "outputs": [
        {
          "output_type": "stream",
          "name": "stdout",
          "text": [
            "['M', 'S', 'K', 'S', 'K', 'M', 'L', 'V', 'F', 'K', 'S', 'K', 'K', 'K', 'K', 'K', 'K', 'K', 'K', 'K', 'K', 'K', 'K', 'K', 'K', 'K', 'PAD', 'PAD', 'PAD', 'PAD', 'PAD', 'PAD', 'PAD', 'PAD', 'PAD', 'PAD', 'PAD', 'PAD', 'PAD', 'PAD', 'PAD', 'PAD', 'PAD', 'PAD', 'PAD', 'PAD', 'PAD', 'PAD', 'PAD', 'PAD', 'PAD', 'PAD', 'PAD', 'PAD', 'PAD', 'PAD', 'PAD', 'PAD', 'PAD', 'PAD', 'PAD', 'PAD', 'PAD', 'PAD', 'PAD', 'PAD', 'PAD', 'PAD', 'PAD', 'PAD', 'PAD', 'PAD', 'PAD', 'PAD', 'PAD', 'PAD', 'PAD', 'PAD', 'PAD', 'PAD', 'PAD', 'PAD', 'PAD', 'PAD', 'PAD', 'PAD', 'PAD', 'PAD', 'PAD', 'PAD', 'PAD', 'PAD', 'PAD', 'PAD', 'PAD', 'PAD', 'PAD', 'PAD', 'PAD', 'PAD', 'PAD', 'PAD', 'PAD', 'PAD', 'PAD', 'PAD', 'PAD', 'PAD', 'PAD', 'PAD', 'PAD', 'PAD', 'PAD', 'PAD', 'PAD', 'PAD', 'PAD', 'PAD', 'PAD', 'PAD', 'PAD', 'PAD', 'PAD', 'PAD', 'PAD', 'PAD', 'PAD', 'PAD', 'PAD', 'PAD', 'PAD', 'PAD', 'PAD', 'PAD', 'PAD', 'PAD', 'PAD', 'PAD', 'PAD', 'PAD', 'PAD', 'PAD', 'PAD', 'PAD', 'PAD', 'PAD', 'PAD', 'PAD', 'PAD', 'PAD', 'PAD', 'PAD', 'PAD', 'PAD', 'PAD', 'PAD', 'PAD', 'PAD', 'PAD', 'PAD', 'PAD', 'PAD', 'PAD', 'PAD', 'PAD', 'PAD', 'PAD', 'PAD', 'PAD', 'PAD', 'PAD', 'PAD', 'PAD', 'PAD', 'PAD', 'PAD', 'PAD', 'PAD', 'PAD', 'PAD', 'PAD', 'PAD', 'PAD', 'PAD', 'PAD', 'PAD', 'PAD', 'PAD', 'PAD', 'PAD', 'PAD', 'PAD', 'PAD', 'PAD', 'PAD', 'PAD', 'PAD', 'PAD', 'PAD', 'PAD', 'PAD', 'PAD', 'PAD', 'PAD', 'PAD', 'PAD', 'PAD', 'PAD', 'PAD', 'PAD', 'PAD', 'PAD', 'PAD', 'PAD', 'PAD', 'PAD', 'PAD', 'PAD', 'PAD', 'PAD', 'PAD', 'PAD', 'PAD', 'PAD', 'PAD', 'PAD', 'PAD', 'PAD', 'PAD', 'PAD', 'PAD', 'PAD', 'PAD', 'PAD', 'PAD', 'PAD', 'PAD', 'PAD', 'PAD', 'PAD', 'PAD', 'PAD', 'PAD', 'PAD', 'PAD', 'PAD', 'PAD', 'PAD', 'PAD', 'PAD', 'PAD', 'PAD', 'PAD', 'PAD', 'PAD', 'PAD', 'PAD', 'PAD', 'PAD', 'PAD', 'PAD', 'PAD', 'PAD', 'PAD', 'PAD', 'PAD', 'PAD', 'PAD', 'PAD', 'PAD', 'PAD', 'PAD', 'PAD', 'PAD', 'PAD', 'PAD', 'PAD', 'PAD', 'PAD', 'PAD', 'PAD', 'PAD', 'PAD', 'PAD', 'PAD', 'PAD', 'PAD', 'PAD', 'PAD', 'PAD', 'PAD', 'PAD', 'PAD', 'PAD', 'PAD', 'PAD', 'PAD', 'PAD', 'PAD']\n"
          ]
        }
      ]
    },
    {
      "cell_type": "code",
      "source": [
        "attributions_sum = attributions_sum.tolist()"
      ],
      "metadata": {
        "id": "0VgRG3CxhUFv"
      },
      "execution_count": null,
      "outputs": []
    },
    {
      "cell_type": "code",
      "source": [
        "import matplotlib.pyplot as plt\n",
        "\n",
        "# Etichette degli amminoacidi\n",
        "\n",
        "\n",
        "# Creazione del grafico a barre\n",
        "plt.bar(generated_text, attributions_sum)\n",
        "plt.xlabel('Amminoacidi')\n",
        "plt.ylabel('Importanza')\n",
        "plt.title('Importanza degli Amminoacidi')\n",
        "plt.show()\n"
      ],
      "metadata": {
        "colab": {
          "base_uri": "https://localhost:8080/",
          "height": 472
        },
        "id": "r7z9ioxihBc8",
        "outputId": "62343dc2-a64a-4bdf-ed65-0e6b2004d4bd"
      },
      "execution_count": 287,
      "outputs": [
        {
          "output_type": "display_data",
          "data": {
            "text/plain": [
              "<Figure size 640x480 with 1 Axes>"
            ],
            "image/png": "[encoded data removed]"
          },
          "metadata": {}
        }
      ]
    }
  ]
}